{
 "cells": [
  {
   "cell_type": "markdown",
   "metadata": {},
   "source": [
    "# Week 10: Birhan Energies"
   ]
  },
  {
   "cell_type": "code",
   "execution_count": 4,
   "metadata": {},
   "outputs": [
    {
     "ename": "ModuleNotFoundError",
     "evalue": "No module named 'pandas'",
     "output_type": "error",
     "traceback": [
      "\u001b[1;31m---------------------------------------------------------------------------\u001b[0m",
      "\u001b[1;31mModuleNotFoundError\u001b[0m                       Traceback (most recent call last)",
      "Cell \u001b[1;32mIn[4], line 2\u001b[0m\n\u001b[0;32m      1\u001b[0m \u001b[38;5;28;01mfrom\u001b[39;00m\u001b[38;5;250m \u001b[39m\u001b[38;5;21;01mflask\u001b[39;00m\u001b[38;5;250m \u001b[39m\u001b[38;5;28;01mimport\u001b[39;00m Flask, render_template, jsonify\n\u001b[1;32m----> 2\u001b[0m \u001b[38;5;28;01mimport\u001b[39;00m\u001b[38;5;250m \u001b[39m\u001b[38;5;21;01mpandas\u001b[39;00m\u001b[38;5;250m \u001b[39m\u001b[38;5;28;01mas\u001b[39;00m\u001b[38;5;250m \u001b[39m\u001b[38;5;21;01mpd\u001b[39;00m\n\u001b[0;32m      3\u001b[0m \u001b[38;5;28;01mimport\u001b[39;00m\u001b[38;5;250m \u001b[39m\u001b[38;5;21;01mmatplotlib\u001b[39;00m\u001b[38;5;21;01m.\u001b[39;00m\u001b[38;5;21;01mpyplot\u001b[39;00m\u001b[38;5;250m \u001b[39m\u001b[38;5;28;01mas\u001b[39;00m\u001b[38;5;250m \u001b[39m\u001b[38;5;21;01mplt\u001b[39;00m\n\u001b[0;32m      4\u001b[0m \u001b[38;5;28;01mimport\u001b[39;00m\u001b[38;5;250m \u001b[39m\u001b[38;5;21;01mio\u001b[39;00m\n",
      "\u001b[1;31mModuleNotFoundError\u001b[0m: No module named 'pandas'"
     ]
    }
   ],
   "source": [
    "from flask import Flask, render_template, jsonify\n",
    "import pandas as pd\n",
    "import matplotlib.pyplot as plt\n",
    "import io\n",
    "import base64\n",
    "\n",
    "app = Flask(__name__)\n",
    "\n",
    "# Load and clean data\n",
    "file_path = \"BrentOilPrices.csv\"  # Update the path if needed\n",
    "df = pd.read_csv(file_path)\n",
    "df[\"Date\"] = pd.to_datetime(df[\"Date\"], errors=\"coerce\")\n",
    "df = df.dropna(subset=[\"Date\"])\n",
    "df = df[df[\"Date\"] >= \"2015-01-01\"]\n",
    "\n",
    "# Key Events\n",
    "key_events = {\n",
    "    \"2015-01-01\": \"OPEC Oversupply Crash\",\n",
    "    \"2016-02-11\": \"Oil Price Bottoms at $27\",\n",
    "    \"2018-10-03\": \"Brent Peaks at $86 (Iran Sanctions)\",\n",
    "    \"2020-04-20\": \"COVID-19 Oil Price Collapse\",\n",
    "    \"2022-02-24\": \"Russia-Ukraine War\",\n",
    "    \"2023-10-07\": \"Israel-Gaza Conflict\"\n",
    "}\n",
    "\n",
    "# Function to generate price trend plot\n",
    "def plot_price_trend():\n",
    "    plt.figure(figsize=(10, 5))\n",
    "    plt.plot(df[\"Date\"], df[\"Price\"], label=\"Brent Oil Price\", color=\"blue\")\n",
    "\n",
    "    for date, event in key_events.items():\n",
    "        plt.axvline(pd.to_datetime(date), color=\"red\", linestyle=\"--\", alpha=0.7)\n",
    "        plt.text(pd.to_datetime(date), df[\"Price\"].max(), event, rotation=90, fontsize=9, verticalalignment=\"top\")\n",
    "\n",
    "    plt.xlabel(\"Year\")\n",
    "    plt.ylabel(\"Price (USD)\")\n",
    "    plt.title(\"Brent Oil Prices & Key Global Events (2015-2025)\")\n",
    "    plt.legend()\n",
    "    plt.grid(True)\n",
    "\n",
    "    # Save plot to a string buffer\n",
    "    buf = io.BytesIO()\n",
    "    plt.savefig(buf, format=\"png\")\n",
    "    buf.seek(0)\n",
    "    encoded_img = base64.b64encode(buf.getvalue()).decode(\"utf-8\")\n",
    "    return encoded_img\n",
    "\n",
    "# Flask Routes\n",
    "@app.route(\"/\")\n",
    "def home():\n",
    "    plot_img = plot_price_trend()\n",
    "    return render_template(\"index.html\", plot_img=plot_img)\n",
    "\n",
    "@app.route(\"/api/insights\")\n",
    "def insights():\n",
    "    # Example policy & investment insights\n",
    "    insights_data = {\n",
    "        \"Investment Strategy\": \"Buy on major price dips caused by geopolitical crises.\",\n",
    "        \"Policy Recommendation\": \"Diversify energy sources to reduce oil price dependency.\",\n",
    "        \"Operational Planning\": \"Increase fuel reserves during low-price periods to mitigate risks.\"\n",
    "    }\n",
    "    return jsonify(insights_data)\n",
    "\n",
    "if __name__ == \"__main__\":\n",
    "    app.run(debug=True)\n"
   ]
  }
 ],
 "metadata": {
  "kernelspec": {
   "display_name": ".venv",
   "language": "python",
   "name": "python3"
  },
  "language_info": {
   "codemirror_mode": {
    "name": "ipython",
    "version": 3
   },
   "file_extension": ".py",
   "mimetype": "text/x-python",
   "name": "python",
   "nbconvert_exporter": "python",
   "pygments_lexer": "ipython3",
   "version": "3.11.2"
  }
 },
 "nbformat": 4,
 "nbformat_minor": 2
}
